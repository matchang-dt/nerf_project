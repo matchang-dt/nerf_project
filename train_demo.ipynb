{
 "cells": [
  {
   "cell_type": "code",
   "execution_count": null,
   "metadata": {
    "colab": {
     "base_uri": "https://localhost:8080/"
    },
    "executionInfo": {
     "elapsed": 19646,
     "status": "ok",
     "timestamp": 1745032625865,
     "user": {
      "displayName": "Ryosuke Matsuzawa",
      "userId": "14346356288692806818"
     },
     "user_tz": 420
    },
    "id": "DT4DLTWd2A58",
    "outputId": "1c1093c2-d11e-4c02-8963-171c5ef42236"
   },
   "outputs": [
    {
     "name": "stdout",
     "output_type": "stream",
     "text": [
      "Mounted at /content/drive\n"
     ]
    }
   ],
   "source": [
    "from google.colab import drive\n",
    "\n",
    "drive.flush_and_unmount()\n",
    "drive.mount('/content/drive')"
   ]
  },
  {
   "cell_type": "code",
   "execution_count": null,
   "metadata": {
    "executionInfo": {
     "elapsed": 10052,
     "status": "ok",
     "timestamp": 1747026525864,
     "user": {
      "displayName": "Ryosuke Matsuzawa",
      "userId": "14346356288692806818"
     },
     "user_tz": 420
    },
    "id": "mmqhfPw62OXq"
   },
   "outputs": [],
   "source": [
    "import os\n",
    "import torch\n",
    "from rendering import render_with_json\n",
    "from train import train"
   ]
  },
  {
   "cell_type": "code",
   "execution_count": 5,
   "metadata": {
    "colab": {
     "base_uri": "https://localhost:8080/"
    },
    "executionInfo": {
     "elapsed": 2167022,
     "status": "ok",
     "timestamp": 1747028694562,
     "user": {
      "displayName": "Ryosuke Matsuzawa",
      "userId": "14346356288692806818"
     },
     "user_tz": 420
    },
    "id": "paG-YNY8QXZF",
    "outputId": "5718fc57-8562-4f6a-aa64-da37dfd73596"
   },
   "outputs": [
    {
     "name": "stderr",
     "output_type": "stream",
     "text": [
      "Data processing: 100%|██████████| 100/100 [00:00<00:00, 189.61it/s]\n"
     ]
    },
    {
     "name": "stdout",
     "output_type": "stream",
     "text": [
      "Pixel data already exists at data/nerf_synthetic/lego/transforms_train_100_pixels.pth\n",
      "Loading pixel data...\n"
     ]
    },
    {
     "name": "stderr",
     "output_type": "stream",
     "text": [
      "Data processing:   2%|▏         | 2/100 [00:00<00:00, 547.63it/s]\n"
     ]
    },
    {
     "name": "stdout",
     "output_type": "stream",
     "text": [
      "Pixel data already exists at data/nerf_synthetic/lego/transforms_val_100_pixels.pth\n",
      "Loading pixel data...\n"
     ]
    },
    {
     "name": "stderr",
     "output_type": "stream",
     "text": [
      "epoch 1 / 20: 100%|██████████| 976/976 [01:46<00:00,  9.17it/s, coarse_loss=0.0344, fine_loss=0.00836, loss=0.0427]\n"
     ]
    },
    {
     "name": "stdout",
     "output_type": "stream",
     "text": [
      "Validation loss: 0.00695, PSNR: 21.6\n"
     ]
    },
    {
     "name": "stderr",
     "output_type": "stream",
     "text": [
      "epoch 2 / 20: 100%|██████████| 976/976 [01:46<00:00,  9.16it/s, coarse_loss=0.0242, fine_loss=0.00522, loss=0.0294]\n"
     ]
    },
    {
     "name": "stdout",
     "output_type": "stream",
     "text": [
      "Validation loss: 0.00463, PSNR: 23.3\n"
     ]
    },
    {
     "name": "stderr",
     "output_type": "stream",
     "text": [
      "epoch 3 / 20: 100%|██████████| 976/976 [01:46<00:00,  9.19it/s, coarse_loss=0.0221, fine_loss=0.00415, loss=0.0263]\n"
     ]
    },
    {
     "name": "stdout",
     "output_type": "stream",
     "text": [
      "Validation loss: 0.00323, PSNR: 24.9\n"
     ]
    },
    {
     "name": "stderr",
     "output_type": "stream",
     "text": [
      "epoch 4 / 20: 100%|██████████| 976/976 [01:46<00:00,  9.17it/s, coarse_loss=0.0176, fine_loss=0.00301, loss=0.0206]\n"
     ]
    },
    {
     "name": "stdout",
     "output_type": "stream",
     "text": [
      "Validation loss: 0.00272, PSNR: 25.7\n"
     ]
    },
    {
     "name": "stderr",
     "output_type": "stream",
     "text": [
      "epoch 5 / 20: 100%|██████████| 976/976 [01:46<00:00,  9.19it/s, coarse_loss=0.0184, fine_loss=0.00308, loss=0.0215]\n"
     ]
    },
    {
     "name": "stdout",
     "output_type": "stream",
     "text": [
      "Validation loss: 0.00217, PSNR: 26.6\n"
     ]
    },
    {
     "name": "stderr",
     "output_type": "stream",
     "text": [
      "epoch 6 / 20: 100%|██████████| 976/976 [01:46<00:00,  9.17it/s, coarse_loss=0.0168, fine_loss=0.00238, loss=0.0192]\n"
     ]
    },
    {
     "name": "stdout",
     "output_type": "stream",
     "text": [
      "Validation loss: 0.00191, PSNR: 27.2\n"
     ]
    },
    {
     "name": "stderr",
     "output_type": "stream",
     "text": [
      "epoch 7 / 20: 100%|██████████| 976/976 [01:46<00:00,  9.17it/s, coarse_loss=0.0121, fine_loss=0.00199, loss=0.0141]\n"
     ]
    },
    {
     "name": "stdout",
     "output_type": "stream",
     "text": [
      "Validation loss: 0.00176, PSNR: 27.5\n"
     ]
    },
    {
     "name": "stderr",
     "output_type": "stream",
     "text": [
      "epoch 8 / 20: 100%|██████████| 976/976 [01:46<00:00,  9.17it/s, coarse_loss=0.0128, fine_loss=0.00223, loss=0.015]\n"
     ]
    },
    {
     "name": "stdout",
     "output_type": "stream",
     "text": [
      "Validation loss: 0.00152, PSNR: 28.2\n"
     ]
    },
    {
     "name": "stderr",
     "output_type": "stream",
     "text": [
      "epoch 9 / 20: 100%|██████████| 976/976 [01:46<00:00,  9.19it/s, coarse_loss=0.0131, fine_loss=0.00155, loss=0.0147]\n"
     ]
    },
    {
     "name": "stdout",
     "output_type": "stream",
     "text": [
      "Validation loss: 0.00147, PSNR: 28.3\n"
     ]
    },
    {
     "name": "stderr",
     "output_type": "stream",
     "text": [
      "epoch 10 / 20: 100%|██████████| 976/976 [01:46<00:00,  9.17it/s, coarse_loss=0.0103, fine_loss=0.0011, loss=0.0114]\n"
     ]
    },
    {
     "name": "stdout",
     "output_type": "stream",
     "text": [
      "Validation loss: 0.00146, PSNR: 28.4\n"
     ]
    },
    {
     "name": "stderr",
     "output_type": "stream",
     "text": [
      "epoch 11 / 20: 100%|██████████| 976/976 [01:46<00:00,  9.19it/s, coarse_loss=0.0114, fine_loss=0.00174, loss=0.0131]\n"
     ]
    },
    {
     "name": "stdout",
     "output_type": "stream",
     "text": [
      "Validation loss: 0.00139, PSNR: 28.6\n"
     ]
    },
    {
     "name": "stderr",
     "output_type": "stream",
     "text": [
      "epoch 12 / 20: 100%|██████████| 976/976 [01:46<00:00,  9.19it/s, coarse_loss=0.0127, fine_loss=0.0019, loss=0.0146]\n"
     ]
    },
    {
     "name": "stdout",
     "output_type": "stream",
     "text": [
      "Validation loss: 0.0015, PSNR: 28.3\n"
     ]
    },
    {
     "name": "stderr",
     "output_type": "stream",
     "text": [
      "epoch 13 / 20: 100%|██████████| 976/976 [01:46<00:00,  9.18it/s, coarse_loss=0.01, fine_loss=0.00138, loss=0.0114]\n"
     ]
    },
    {
     "name": "stdout",
     "output_type": "stream",
     "text": [
      "Validation loss: 0.00134, PSNR: 28.7\n"
     ]
    },
    {
     "name": "stderr",
     "output_type": "stream",
     "text": [
      "epoch 14 / 20: 100%|██████████| 976/976 [01:46<00:00,  9.17it/s, coarse_loss=0.0104, fine_loss=0.00156, loss=0.012]\n"
     ]
    },
    {
     "name": "stdout",
     "output_type": "stream",
     "text": [
      "Validation loss: 0.00125, PSNR: 29\n"
     ]
    },
    {
     "name": "stderr",
     "output_type": "stream",
     "text": [
      "epoch 15 / 20: 100%|██████████| 976/976 [01:46<00:00,  9.19it/s, coarse_loss=0.0101, fine_loss=0.00122, loss=0.0113]\n"
     ]
    },
    {
     "name": "stdout",
     "output_type": "stream",
     "text": [
      "Validation loss: 0.00127, PSNR: 29\n"
     ]
    },
    {
     "name": "stderr",
     "output_type": "stream",
     "text": [
      "epoch 16 / 20: 100%|██████████| 976/976 [01:46<00:00,  9.20it/s, coarse_loss=0.00989, fine_loss=0.00125, loss=0.0111]\n"
     ]
    },
    {
     "name": "stdout",
     "output_type": "stream",
     "text": [
      "Validation loss: 0.0012, PSNR: 29.2\n"
     ]
    },
    {
     "name": "stderr",
     "output_type": "stream",
     "text": [
      "epoch 17 / 20: 100%|██████████| 976/976 [01:46<00:00,  9.20it/s, coarse_loss=0.0105, fine_loss=0.0011, loss=0.0116]\n"
     ]
    },
    {
     "name": "stdout",
     "output_type": "stream",
     "text": [
      "Validation loss: 0.00114, PSNR: 29.4\n"
     ]
    },
    {
     "name": "stderr",
     "output_type": "stream",
     "text": [
      "epoch 18 / 20: 100%|██████████| 976/976 [01:46<00:00,  9.19it/s, coarse_loss=0.00967, fine_loss=0.00147, loss=0.0111]\n"
     ]
    },
    {
     "name": "stdout",
     "output_type": "stream",
     "text": [
      "Validation loss: 0.00111, PSNR: 29.6\n"
     ]
    },
    {
     "name": "stderr",
     "output_type": "stream",
     "text": [
      "epoch 19 / 20: 100%|██████████| 976/976 [01:46<00:00,  9.17it/s, coarse_loss=0.01, fine_loss=0.00135, loss=0.0113]\n"
     ]
    },
    {
     "name": "stdout",
     "output_type": "stream",
     "text": [
      "Validation loss: 0.00123, PSNR: 29.1\n"
     ]
    },
    {
     "name": "stderr",
     "output_type": "stream",
     "text": [
      "epoch 20 / 20: 100%|██████████| 976/976 [01:46<00:00,  9.17it/s, coarse_loss=0.00808, fine_loss=0.000994, loss=0.00907]\n"
     ]
    },
    {
     "name": "stdout",
     "output_type": "stream",
     "text": [
      "Validation loss: 0.00108, PSNR: 29.7\n",
      "Finished!\n",
      "Elapsed: 2167.0 s\n"
     ]
    }
   ],
   "source": [
    "base_dir = \"data/nerf_synthetic/lego\"\n",
    "train_json = os.path.join(base_dir, \"transforms_train_100.json\")\n",
    "val_json = os.path.join(base_dir, \"transforms_val_100.json\")\n",
    "save_folder = \"models/\"\n",
    "train(base_dir, train_json, val_json, save_folder, trans_func = torch.exp)\n",
    "# resumption = {\"epochs\": 50, \"done\": 0, \"id\": \"250511055601\"}\n",
    "# train(base_dir, input_json, save_folder, trans_func = torch.exp, resumption=resumption)"
   ]
  },
  {
   "cell_type": "code",
   "execution_count": null,
   "metadata": {
    "colab": {
     "base_uri": "https://localhost:8080/",
     "height": 885
    },
    "executionInfo": {
     "elapsed": 722,
     "status": "ok",
     "timestamp": 1747029580271,
     "user": {
      "displayName": "Ryosuke Matsuzawa",
      "userId": "14346356288692806818"
     },
     "user_tz": 420
    },
    "id": "8LEAXnQP1wld",
    "outputId": "2bef59d8-8153-43b1-bc69-c83ec160c83b"
   },
   "outputs": [
    {
     "name": "stderr",
     "output_type": "stream",
     "text": [
      "rendering: 100%|██████████| 100/100 [00:00<00:00, 328.33it/s]\n"
     ]
    },
    {
     "data": {
      "image/png": "[encoded data removed]",
      "text/plain": [
       "<Figure size 640x480 with 1 Axes>"
      ]
     },
     "metadata": {},
     "output_type": "display_data"
    },
    {
     "name": "stderr",
     "output_type": "stream",
     "text": [
      "rendering: 100%|██████████| 100/100 [00:00<00:00, 674.84it/s]\n"
     ]
    },
    {
     "data": {
      "image/png": "[encoded data removed]",
      "text/plain": [
       "<Figure size 640x480 with 1 Axes>"
      ]
     },
     "metadata": {},
     "output_type": "display_data"
    }
   ],
   "source": [
    "import os\n",
    "folder = \"250512050846\"\n",
    "if folder:\n",
    "  hparam_path = f\"models/{folder}/hparams_{folder}.pth\"\n",
    "  coarse_path = f\"models/{folder}/coarse_{folder}.pth\"\n",
    "  fine_path = f\"models/{folder}/fine_{folder}.pth\"\n",
    "else:\n",
    "  hparam_path = \"models/hparams_250417074555.pth\"\n",
    "  param_path = \"models/coarse_250417074555.pth\"\n",
    "\n",
    "base_dir = \"data/nerf_synthetic/lego\"\n",
    "# input_json = os.path.join(base_dir, \"transforms_train_100.json\")\n",
    "# input_json = os.path.join(base_dir, \"transforms_val_100.json\")\n",
    "input_json = os.path.join(base_dir, \"transforms_test_100.json\")\n",
    "data_idx = 15\n",
    "render_with_json(input_json, data_idx, hparam_path, coarse_path, fine_path)\n",
    "render_with_json(input_json, data_idx, hparam_path, coarse_path, fine_path, coarse_use=True)"
   ]
  }
 ],
 "metadata": {
  "accelerator": "GPU",
  "colab": {
   "authorship_tag": "ABX9TyPi2OpLBGdh2tEXoE1Az/4e",
   "gpuType": "L4",
   "machine_shape": "hm",
   "mount_file_id": "1oIRmSixd3ADPKBew-zFYUkV1hfwQOerM",
   "provenance": []
  },
  "kernelspec": {
   "display_name": "Python 3",
   "name": "python3"
  },
  "language_info": {
   "name": "python"
  }
 },
 "nbformat": 4,
 "nbformat_minor": 0
}
